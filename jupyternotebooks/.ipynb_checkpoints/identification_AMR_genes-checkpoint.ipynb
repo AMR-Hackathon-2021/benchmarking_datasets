{
 "cells": [
  {
   "cell_type": "code",
   "execution_count": 29,
   "metadata": {},
   "outputs": [],
   "source": [
    "import pandas as pd\n",
    "import json"
   ]
  },
  {
   "cell_type": "markdown",
   "metadata": {},
   "source": [
    "# load the antibiotics needed"
   ]
  },
  {
   "cell_type": "code",
   "execution_count": 26,
   "metadata": {},
   "outputs": [],
   "source": [
    "antibiotics = pd.read_excel('../notes/Table 2 Mauro Benchmarking 10-2021.xlsx', index_col = 0, skiprows = 1)\n",
    "\n",
    "# subset to E. coli only, and get antibiotics\n",
    "antibiotics = antibiotics['Escherichia coli'].dropna().index.tolist()"
   ]
  },
  {
   "cell_type": "code",
   "execution_count": 44,
   "metadata": {},
   "outputs": [
    {
     "data": {
      "text/plain": [
       "['Amikacin',\n",
       " 'Amoxicillin',\n",
       " 'Ampicillin',\n",
       " 'Azithromycin',\n",
       " 'Cefepime',\n",
       " 'Cefotaxime',\n",
       " 'Ceftazidime',\n",
       " 'Ceftriaxone',\n",
       " 'Chloramphenicol',\n",
       " 'Ciprofloxacin',\n",
       " 'Colistin',\n",
       " 'Ertapenem',\n",
       " 'Gentamicin',\n",
       " 'Imipenem',\n",
       " 'Levofloxacin',\n",
       " 'Meropenem',\n",
       " 'Moxifloxacin',\n",
       " 'Nalidixic acid',\n",
       " 'Netilmicin',\n",
       " 'Norfloxacin',\n",
       " 'Ofloxacin',\n",
       " 'Piperacillin',\n",
       " 'Polymyxin',\n",
       " 'Sulfamethoxazole',\n",
       " 'Tetracycline',\n",
       " 'Tigecycline',\n",
       " 'Tobramycin',\n",
       " 'Trimethoprim']"
      ]
     },
     "execution_count": 44,
     "metadata": {},
     "output_type": "execute_result"
    }
   ],
   "source": [
    "antibiotics"
   ]
  },
  {
   "cell_type": "code",
   "execution_count": 46,
   "metadata": {},
   "outputs": [],
   "source": [
    "groups = {'Amikacin':'aminoglycoside antibiotic',\n",
    " 'Amoxicillin':'penam',\n",
    " 'Ampicillin':'penam',\n",
    " 'Azithromycin':'marcolide antibiotic',\n",
    " 'Cefepime':'cephalosporin',\n",
    " 'Cefotaxime':'cephalosporin',\n",
    " 'Ceftazidime':'cephalosporin',\n",
    " 'Ceftriaxone':'cephalosporin',\n",
    " 'Chloramphenicol':'phenicol antibiotic',\n",
    " 'Ciprofloxacin':'fluoroquinolone antibiotic',\n",
    " 'Colistin':'peptide antibiotic',\n",
    " 'Ertapenem':'carbapenem',\n",
    " 'Gentamicin':'aminoglycoside antibiotic',\n",
    " 'Imipenem':'carbapenem',\n",
    " 'Levofloxacin':'fluoroquinolone antibiotic',\n",
    " 'Meropenem':'carbapenem',\n",
    " 'Moxifloxacin':'fluoroquinolone antibiotic',\n",
    " 'Nalidixic acid':'fluoroquinolone',\n",
    " 'Netilmicin':'aminoglycoside',\n",
    " 'Norfloxacin':'fluoroquinolone antibiotic',\n",
    " 'Ofloxacin':'fluoroquinolone antibiotic',\n",
    " 'Piperacillin':'penam',\n",
    " 'Polymyxin':'peptide antibiotic',\n",
    " 'Sulfamethoxazole':'sulfonamide antibiotic',\n",
    " 'Tetracycline':'tetracycline antibiotic',\n",
    " 'Tigecycline':'glycylcycline',\n",
    " 'Tobramycin':'aminoglycoside antibiotic',\n",
    " 'Trimethoprim':'diaminopyrimidine antibiotic'\n",
    "}"
   ]
  },
  {
   "cell_type": "code",
   "execution_count": null,
   "metadata": {},
   "outputs": [],
   "source": []
  },
  {
   "cell_type": "code",
   "execution_count": 43,
   "metadata": {},
   "outputs": [
    {
     "data": {
      "text/html": [
       "<div>\n",
       "<style scoped>\n",
       "    .dataframe tbody tr th:only-of-type {\n",
       "        vertical-align: middle;\n",
       "    }\n",
       "\n",
       "    .dataframe tbody tr th {\n",
       "        vertical-align: top;\n",
       "    }\n",
       "\n",
       "    .dataframe thead th {\n",
       "        text-align: right;\n",
       "    }\n",
       "</style>\n",
       "<table border=\"1\" class=\"dataframe\">\n",
       "  <thead>\n",
       "    <tr style=\"text-align: right;\">\n",
       "      <th></th>\n",
       "      <th>Name</th>\n",
       "      <th>Description</th>\n",
       "      <th>ID</th>\n",
       "    </tr>\n",
       "    <tr>\n",
       "      <th>Accession</th>\n",
       "      <th></th>\n",
       "      <th></th>\n",
       "      <th></th>\n",
       "    </tr>\n",
       "  </thead>\n",
       "  <tbody>\n",
       "    <tr>\n",
       "      <th>ARO:0000000</th>\n",
       "      <td>macrolide antibiotic</td>\n",
       "      <td>Macrolides are a group of drugs (typically ant...</td>\n",
       "      <td>35919</td>\n",
       "    </tr>\n",
       "    <tr>\n",
       "      <th>ARO:0000001</th>\n",
       "      <td>fluoroquinolone antibiotic</td>\n",
       "      <td>The fluoroquinolones are a family of synthetic...</td>\n",
       "      <td>35920</td>\n",
       "    </tr>\n",
       "    <tr>\n",
       "      <th>ARO:0000002</th>\n",
       "      <td>tetracycline-resistant ribosomal protection pr...</td>\n",
       "      <td>A family of proteins known to bind to the 30S ...</td>\n",
       "      <td>35921</td>\n",
       "    </tr>\n",
       "    <tr>\n",
       "      <th>ARO:0000003</th>\n",
       "      <td>astromicin</td>\n",
       "      <td>Astromicin is an aminoglycoside antibiotic use...</td>\n",
       "      <td>35922</td>\n",
       "    </tr>\n",
       "    <tr>\n",
       "      <th>ARO:0000004</th>\n",
       "      <td>monobactam</td>\n",
       "      <td>Monobactams are a class of beta-lactam antibio...</td>\n",
       "      <td>35923</td>\n",
       "    </tr>\n",
       "    <tr>\n",
       "      <th>...</th>\n",
       "      <td>...</td>\n",
       "      <td>...</td>\n",
       "      <td>...</td>\n",
       "    </tr>\n",
       "    <tr>\n",
       "      <th>ARO:850</th>\n",
       "      <td>lung disease</td>\n",
       "      <td>A lower respiratory tract disease in which the...</td>\n",
       "      <td>41618</td>\n",
       "    </tr>\n",
       "    <tr>\n",
       "      <th>ARO:85540</th>\n",
       "      <td>microbial susceptibility test</td>\n",
       "      <td>A method to determine whether microbial growth...</td>\n",
       "      <td>41551</td>\n",
       "    </tr>\n",
       "    <tr>\n",
       "      <th>ARO:85595</th>\n",
       "      <td>disk-diffusion method</td>\n",
       "      <td>A method to determine microbial susceptibility...</td>\n",
       "      <td>41587</td>\n",
       "    </tr>\n",
       "    <tr>\n",
       "      <th>ARO:85596</th>\n",
       "      <td>antimicrobial gradient method (E-test)</td>\n",
       "      <td>A method to determine microbial susceptibility...</td>\n",
       "      <td>41588</td>\n",
       "    </tr>\n",
       "    <tr>\n",
       "      <th>ARO:85701</th>\n",
       "      <td>macro broth dilution method</td>\n",
       "      <td>A method to determine the minimum inhibitory c...</td>\n",
       "      <td>41585</td>\n",
       "    </tr>\n",
       "  </tbody>\n",
       "</table>\n",
       "<p>6453 rows × 3 columns</p>\n",
       "</div>"
      ],
      "text/plain": [
       "                                                          Name  \\\n",
       "Accession                                                        \n",
       "ARO:0000000                               macrolide antibiotic   \n",
       "ARO:0000001                         fluoroquinolone antibiotic   \n",
       "ARO:0000002  tetracycline-resistant ribosomal protection pr...   \n",
       "ARO:0000003                                         astromicin   \n",
       "ARO:0000004                                         monobactam   \n",
       "...                                                        ...   \n",
       "ARO:850                                           lung disease   \n",
       "ARO:85540                        microbial susceptibility test   \n",
       "ARO:85595                                disk-diffusion method   \n",
       "ARO:85596               antimicrobial gradient method (E-test)   \n",
       "ARO:85701                          macro broth dilution method   \n",
       "\n",
       "                                                   Description     ID  \n",
       "Accession                                                              \n",
       "ARO:0000000  Macrolides are a group of drugs (typically ant...  35919  \n",
       "ARO:0000001  The fluoroquinolones are a family of synthetic...  35920  \n",
       "ARO:0000002  A family of proteins known to bind to the 30S ...  35921  \n",
       "ARO:0000003  Astromicin is an aminoglycoside antibiotic use...  35922  \n",
       "ARO:0000004  Monobactams are a class of beta-lactam antibio...  35923  \n",
       "...                                                        ...    ...  \n",
       "ARO:850      A lower respiratory tract disease in which the...  41618  \n",
       "ARO:85540    A method to determine whether microbial growth...  41551  \n",
       "ARO:85595    A method to determine microbial susceptibility...  41587  \n",
       "ARO:85596    A method to determine microbial susceptibility...  41588  \n",
       "ARO:85701    A method to determine the minimum inhibitory c...  41585  \n",
       "\n",
       "[6453 rows x 3 columns]"
      ]
     },
     "execution_count": 43,
     "metadata": {},
     "output_type": "execute_result"
    }
   ],
   "source": [
    "pd.read_csv(\"../data/card-ontology/aro.tsv\", sep = '\\t',index_col = 0)"
   ]
  },
  {
   "cell_type": "code",
   "execution_count": 39,
   "metadata": {},
   "outputs": [
    {
     "data": {
      "text/plain": [
       "{'accession': 'ARO:0000001',\n",
       " 'name': 'fluoroquinolone antibiotic',\n",
       " 'description': 'The fluoroquinolones are a family of synthetic broad-spectrum antibiotics that are 4-quinolone-3-carboxylates. These compounds interact with topoisomerase II (DNA gyrase) to disrupt bacterial DNA replication, damage DNA, and cause cell death.',\n",
       " 'cvterm_id': '35920'}"
      ]
     },
     "execution_count": 39,
     "metadata": {},
     "output_type": "execute_result"
    }
   ],
   "source": [
    "jsonObject[1]"
   ]
  },
  {
   "cell_type": "code",
   "execution_count": null,
   "metadata": {},
   "outputs": [],
   "source": []
  }
 ],
 "metadata": {
  "kernelspec": {
   "display_name": "Python 3",
   "language": "python",
   "name": "python3"
  },
  "language_info": {
   "codemirror_mode": {
    "name": "ipython",
    "version": 3
   },
   "file_extension": ".py",
   "mimetype": "text/x-python",
   "name": "python",
   "nbconvert_exporter": "python",
   "pygments_lexer": "ipython3",
   "version": "3.7.6"
  }
 },
 "nbformat": 4,
 "nbformat_minor": 4
}
